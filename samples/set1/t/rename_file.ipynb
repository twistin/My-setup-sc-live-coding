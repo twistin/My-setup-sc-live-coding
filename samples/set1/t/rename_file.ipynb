{
 "cells": [
  {
   "cell_type": "code",
   "execution_count": 1,
   "id": "87248be0-0c4a-44fb-95b8-80aa38c26963",
   "metadata": {},
   "outputs": [
    {
     "name": "stdout",
     "output_type": "stream",
     "text": [
      "337914__fschaeffer__93tom.wav\n",
      "tf4.wav\n",
      "184535__altemark__tom1.wav\n",
      "tf1.wav\n",
      "Crsnred_scr_prc_27.wav\n",
      "tf2.wav\n",
      "tf3.wav\n",
      "Crsnred_scr_prc_26.wav\n",
      "Crsnred_scr_prc_16.wav\n"
     ]
    }
   ],
   "source": [
    "import wave\n",
    "import contextlib\n",
    "import os\n",
    "count = 0\n",
    "\n",
    "for file_name in os.listdir(os.getcwd()):\n",
    "    if file_name.endswith(\".wav\") or file_name.endswith(\".aiff\"):\n",
    "        count += 1\n",
    "        with contextlib.closing(wave.open(file_name, 'r')) as f:\n",
    "            frames = f.getnframes()\n",
    "            rate = f.getframerate()\n",
    "            duration = frames / float(rate)\n",
    "            duration = int(duration)\n",
    "            duration = str(duration)\n",
    "            new_file_name = \"audio\" + str(count) + '.wav'\n",
    "            print(file_name)\n",
    "        os.rename(file_name, new_file_name)\n",
    "    else:\n",
    "        continue"
   ]
  },
  {
   "cell_type": "code",
   "execution_count": null,
   "id": "49dc280c-269d-4ee8-8b3f-8d6698d5b728",
   "metadata": {},
   "outputs": [],
   "source": []
  }
 ],
 "metadata": {
  "kernelspec": {
   "display_name": "Python 3 (ipykernel)",
   "language": "python",
   "name": "python3"
  },
  "language_info": {
   "codemirror_mode": {
    "name": "ipython",
    "version": 3
   },
   "file_extension": ".py",
   "mimetype": "text/x-python",
   "name": "python",
   "nbconvert_exporter": "python",
   "pygments_lexer": "ipython3",
   "version": "3.10.12"
  }
 },
 "nbformat": 4,
 "nbformat_minor": 5
}
