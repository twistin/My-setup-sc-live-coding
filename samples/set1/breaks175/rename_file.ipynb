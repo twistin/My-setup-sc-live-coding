{
 "cells": [
  {
   "cell_type": "code",
   "execution_count": 1,
   "id": "87248be0-0c4a-44fb-95b8-80aa38c26963",
   "metadata": {},
   "outputs": [
    {
     "name": "stdout",
     "output_type": "stream",
     "text": [
      "mono_looperman-l-0907685-0082801-blueeskies-rage-break-beat.wav\n",
      "mono_looperman-l-0767706-0074678-loonygoon1-killa-dnb-loop-175-bpm.wav\n",
      "mono_250093__amfe__175bpm-amen-punchy-loop.wav\n",
      "mono_looperman-l-1918655-0097339-arthurdayencooper-first-drum-break.wav\n",
      "mono_looperman-l-0779256-0078306-simula-simula-jump-up-dnb-loop-with-percussion (1).wav\n",
      "mono_270313__dee-vigga__dv-amen-break-175bpm.wav\n",
      "mono_audio1.wav\n",
      "mono_65780__dahovv__dnb-distorted-atmosphere-rhythm-175.wav\n",
      "mono_looperman-l-1048767-0078069-buffalonugaluss-butthead.wav\n",
      "mono_123292__dirtyjewbs__drumstep-loop-175bpm.wav\n",
      "mono_looperman-l-0779256-0078306-simula-simula-jump-up-dnb-loop-with-percussion.wav\n"
     ]
    }
   ],
   "source": [
    "import wave\n",
    "import contextlib\n",
    "import os\n",
    "count = 0\n",
    "\n",
    "for file_name in os.listdir(os.getcwd()):\n",
    "    if file_name.endswith(\".wav\") or file_name.endswith(\".aiff\"):\n",
    "        count += 1\n",
    "        with contextlib.closing(wave.open(file_name, 'r')) as f:\n",
    "            frames = f.getnframes()\n",
    "            rate = f.getframerate()\n",
    "            duration = frames / float(rate)\n",
    "            duration = int(duration)\n",
    "            duration = str(duration)\n",
    "            new_file_name = \"audio\" + str(count) + '.wav'\n",
    "            print(file_name)\n",
    "        os.rename(file_name, new_file_name)\n",
    "    else:\n",
    "        continue"
   ]
  },
  {
   "cell_type": "code",
   "execution_count": null,
   "id": "49dc280c-269d-4ee8-8b3f-8d6698d5b728",
   "metadata": {},
   "outputs": [],
   "source": []
  }
 ],
 "metadata": {
  "kernelspec": {
   "display_name": "Python 3 (ipykernel)",
   "language": "python",
   "name": "python3"
  },
  "language_info": {
   "codemirror_mode": {
    "name": "ipython",
    "version": 3
   },
   "file_extension": ".py",
   "mimetype": "text/x-python",
   "name": "python",
   "nbconvert_exporter": "python",
   "pygments_lexer": "ipython3",
   "version": "3.10.12"
  }
 },
 "nbformat": 4,
 "nbformat_minor": 5
}
